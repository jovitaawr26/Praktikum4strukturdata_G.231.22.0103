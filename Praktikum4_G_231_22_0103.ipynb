{
  "nbformat": 4,
  "nbformat_minor": 0,
  "metadata": {
    "colab": {
      "provenance": []
    },
    "kernelspec": {
      "name": "python3",
      "display_name": "Python 3"
    },
    "language_info": {
      "name": "python"
    }
  },
  "cells": [
    {
      "cell_type": "markdown",
      "source": [
        "Algoritma Pangram\n",
        "1. Mulai\n",
        "2. inisialisasi string kosong (untuk menyimpan pangram)\n",
        "3. inialisasi set (untuk melacak huruf yang sudah muncul)\n",
        "4. lakukan iterasi (melalui setiap karakter dalam alfabet secara berurutan)\n",
        "5. ulangi langkah 4 (sampai memiliki contoh dari huruf dalam alfabet)\n",
        "6. panggil hasil string pangram\n",
        "7. selesai"
      ],
      "metadata": {
        "id": "XKALou2TpREp"
      }
    },
    {
      "cell_type": "code",
      "source": [
        "def check_pangram(s):\n",
        "    char_present = [False] * 26\n",
        "\n",
        "    for char in s.lower():\n",
        "        if char.isalpha():\n",
        "            char_present[ord(char) - ord('a')] = True\n",
        "\n",
        "    return all(char_present)\n",
        "\n",
        "# Driver Program to test the function\n",
        "sentence = \"The quick brown fox jumps over the lazy dog\"\n",
        "if check_pangram(sentence):\n",
        "    print('\"' + sentence + '\"')\n",
        "    print(\"\\nis a pangram\")\n",
        "else:\n",
        "    print('\"' + sentence + '\"')\n",
        "    print(\"\\nis not a pangram\")\n"
      ],
      "metadata": {
        "colab": {
          "base_uri": "https://localhost:8080/"
        },
        "id": "fJlySJiPqpCb",
        "outputId": "f5d8a61d-542d-42c8-dda3-89cf01e19751"
      },
      "execution_count": 1,
      "outputs": [
        {
          "output_type": "stream",
          "name": "stdout",
          "text": [
            "\"The quick brown fox jumps over the lazy dog\"\n",
            "\n",
            "is a pangram\n"
          ]
        }
      ]
    }
  ]
}